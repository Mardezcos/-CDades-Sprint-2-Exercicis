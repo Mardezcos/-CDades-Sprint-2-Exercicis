{
 "cells": [
  {
   "cell_type": "markdown",
   "id": "0dd3caea",
   "metadata": {},
   "source": [
    "# CDades Sprint 2 Tasca 2"
   ]
  },
  {
   "cell_type": "markdown",
   "id": "f2a28123",
   "metadata": {},
   "source": [
    "## Exercici 1"
   ]
  },
  {
   "cell_type": "markdown",
   "id": "80bc8cf4",
   "metadata": {},
   "source": [
    "#### L'exercici consisteix a crear un programa que et classifiqui una variable numèrica en funció de l’escala Suspès/Aprovat/Notable/Excel·lent.\n",
    "#### Recorda que Suspès < 5, Aprovat > 5 i < 7, Notable > 7 i < 9 i Excel·lent > 9."
   ]
  },
  {
   "cell_type": "code",
   "execution_count": 20,
   "id": "9d7705a7",
   "metadata": {},
   "outputs": [
    {
     "name": "stdout",
     "output_type": "stream",
     "text": [
      "¿Qué nota has sacado em el examen? 6,7\n",
      "Tienes un aprobado en el examen\n"
     ]
    }
   ],
   "source": [
    "nota = input('¿Qué nota has sacado em el examen? ')\n",
    "if all(d in \"0123456789.,\" for d in nota):  # Compruebo que la nota es un número\n",
    "    nota=nota.replace(',','.')  # Si num es decimal escrito con un punto, se redonde al número superior\n",
    "    if (eval(nota))<5: print('Has suspedido')  # Utilizo una estructura If...else para clasificar la nota\n",
    "    elif 5<=(eval(nota))<7: print('Tienes un aprobado en el examen')\n",
    "    elif 7<=(eval(nota))<9: print('Tienes un notable en el examen')\n",
    "    elif 9<=(eval(nota))<=10: print('Tienes un sobresaliente en el examen')\n",
    "    else: print('La nota debe ser un número entre 0 y 10') # Hago una comprobación última de que la nota no es superior a 10\n",
    "else: print('La nota no puede ser un caracter')  "
   ]
  },
  {
   "cell_type": "markdown",
   "id": "7d881b80",
   "metadata": {},
   "source": [
    "## Exercici 2"
   ]
  },
  {
   "cell_type": "markdown",
   "id": "60b65642",
   "metadata": {},
   "source": [
    "#### Utilitzant el següent tutorial crea un programa que et pregunti dos números. T’ha de mostrar un missatge dient si el primer és més gran, el segon és més gran o són iguals."
   ]
  },
  {
   "cell_type": "code",
   "execution_count": 12,
   "id": "dc1e1af6",
   "metadata": {},
   "outputs": [
    {
     "name": "stdout",
     "output_type": "stream",
     "text": [
      "Escribe dos números\n",
      "Primer número: 3\n",
      "Segundo número: 1\n",
      "3 es mayor que 1\n"
     ]
    }
   ],
   "source": [
    "print('Escribe dos números')\n",
    "primerNum=input('Primer número: ')\n",
    "primerNum=primerNum.replace(',','.') # Sustituyo la coma por un punto\n",
    "if all(d in \"0123456789.,\" for d in primerNum):  # Compruebo que primerNum es un número\n",
    "    segundoNum=input('Segundo número: ')\n",
    "    segundoNum=segundoNum.replace(',','.') # Sustituyo la coma por un punto\n",
    "    if all(d in \"0123456789.,\" for d in segundoNum):  # Compruebo que segundoNum es un número\n",
    "            if primerNum>segundoNum: print(primerNum + ' es mayor que ' + segundoNum)  \n",
    "            elif primerNum==segundoNum: print(primerNum + ' es igual a ' + segundoNum)\n",
    "            else: print(primerNum + ' es menor que ' + segundoNum)\n",
    "    else: print('No has introducido un número en el segundo número') # Si num no es número\n",
    "else: print('No has introducido un número en el primer número') # Si num no es número"
   ]
  },
  {
   "cell_type": "markdown",
   "id": "290ec5f8",
   "metadata": {},
   "source": [
    "## Exercici 3"
   ]
  },
  {
   "cell_type": "markdown",
   "id": "4ded449d",
   "metadata": {},
   "source": [
    "#### Crea un programa que et pregunti el teu nom, i et demani un número. Si el número és 0, hauria de mostrar un missatge d’error. En cas contrari, hauria de mostrar el nom repetit tants cops com indiqui el número. Per exemple, “Joan Joan Joan”."
   ]
  },
  {
   "cell_type": "code",
   "execution_count": 39,
   "id": "56e55353",
   "metadata": {},
   "outputs": [
    {
     "name": "stdout",
     "output_type": "stream",
     "text": [
      "¿Cómo te llamas?Pedro\n",
      "Pedro \n",
      "Elige un número   3\n",
      "Pedro Pedro Pedro \n"
     ]
    }
   ],
   "source": [
    "nom = input('¿Cómo te llamas?') + ' '\n",
    "print(nom)\n",
    "num = input('Elige un número   ')\n",
    "num=num.replace(',','.') # Sustituyo la coma por un punto\n",
    "if all(d in \"123456789.\" for d in num): # Compruebo que num es un número\n",
    "    print(int(eval(num)) * nom) # Con eval el string funciona como un número\n",
    "else: print('Debes introducir un número mayor de cero') # Si num no es número"
   ]
  },
  {
   "cell_type": "markdown",
   "id": "79b49259",
   "metadata": {},
   "source": [
    "## Exercici 4"
   ]
  },
  {
   "cell_type": "markdown",
   "id": "a3211b17",
   "metadata": {},
   "source": [
    "#### Crea un programa que donada una llista qualsevol, et digui si és simètrica o no. Si ho és, que et digui quants elements té."
   ]
  },
  {
   "cell_type": "code",
   "execution_count": 70,
   "id": "e11409b4",
   "metadata": {},
   "outputs": [
    {
     "name": "stdout",
     "output_type": "stream",
     "text": [
      "Introduce una lista:1234321\n",
      "La lista es simétrica\n",
      "La lista tiene 7 elementos\n"
     ]
    }
   ],
   "source": [
    "# Pido una lista\n",
    "lista = list(input('Introduce una lista:'))\n",
    "lista2=lista.copy()\n",
    "lista.reverse()\n",
    "if lista and len(lista)>1:  # compruebo si la lista está vacía o si tiene un sólo elemento\n",
    "    if lista==lista2: \n",
    "        print('La lista es simétrica')  # acaba la iteración, la lista es simétrica\n",
    "        print('La lista tiene ' + str(len(lista)) + ' elementos')  # número de elementos\n",
    "    else:\n",
    "        print('La lista no es simétrica')   # la lista no es simétrica        \n",
    "else: print('Esta lista está vacía o solo tiene un elemento') # si la lista no tiene elementos"
   ]
  },
  {
   "cell_type": "markdown",
   "id": "adb4b654",
   "metadata": {},
   "source": [
    "## Exercici 5"
   ]
  },
  {
   "cell_type": "markdown",
   "id": "9a4047e5",
   "metadata": {},
   "source": [
    "#### Crea un programa que donada una llista, et digui quants números coincideixen amb la seva posició. Per exemple [3,4,2,0,2,3,6] el 2 i el 6 coincideixen."
   ]
  },
  {
   "cell_type": "code",
   "execution_count": null,
   "id": "a1d81cdc",
   "metadata": {},
   "outputs": [],
   "source": [
    "# Dada una lista decir cuántos números coinciden con su posición"
   ]
  },
  {
   "cell_type": "code",
   "execution_count": 5,
   "id": "58a4859b",
   "metadata": {},
   "outputs": [
    {
     "name": "stdout",
     "output_type": "stream",
     "text": [
      "Introduce una lista:  01ur4589\n",
      "El elemento 0 coincide con su índice 0\n",
      "El elemento 1 coincide con su índice 1\n",
      "El elemento u no es un número\n",
      "El elemento r no es un número\n",
      "El elemento 4 coincide con su índice 4\n",
      "El elemento 5 coincide con su índice 5\n",
      "El elemento 8 no coincide con su índice 6\n",
      "El elemento 9 no coincide con su índice 7\n",
      "Hay 4 elementos en la lista que coinciden con su índice\n",
      "Hay 2 elementos en la lista que no coinciden con su índice\n",
      "Hay 2 elementos que no son números\n"
     ]
    }
   ],
   "source": [
    "# Pido una lista\n",
    "lista = list(input('Introduce una lista:  '))\n",
    "if lista:  # compruebo si la lista está vacía\n",
    "    indice=0\n",
    "    coincidencias=0\n",
    "    noCoincidencias=0\n",
    "    noNumeros=0  \n",
    "    for elemento in lista:  # itero a lo largo de los elementos de la lista\n",
    "        if all(d in \"0123456789\" for d in elemento): # Compruebo que el elemento es un número\n",
    "            if elemento == str(indice):\n",
    "                print('El elemento ' + str(elemento) + ' coincide con su índice ' + str(indice))\n",
    "                coincidencias+=1 # Voy calculando las coincidencias\n",
    "            else:\n",
    "                print('El elemento ' + str(elemento) + ' no coincide con su índice ' + str(indice))\n",
    "                noCoincidencias+=1  # Voy calculando las no coincidencias\n",
    "        else:\n",
    "            print('El elemento ' + str(elemento) + ' no es un número')\n",
    "            noNumeros+=1 # Voy calculando los elementos que no son un número\n",
    "        indice+=1\n",
    "    print('Hay ' + str(coincidencias) + ' elementos en la lista que coinciden con su índice')\n",
    "    print('Hay ' + str(noCoincidencias) + ' elementos en la lista que no coinciden con su índice')\n",
    "    print('Hay ' + str(noNumeros) + ' elementos que no son números')\n",
    "else: print('Esta lista está vacía')"
   ]
  }
 ],
 "metadata": {
  "kernelspec": {
   "display_name": "Python 3 (ipykernel)",
   "language": "python",
   "name": "python3"
  },
  "language_info": {
   "codemirror_mode": {
    "name": "ipython",
    "version": 3
   },
   "file_extension": ".py",
   "mimetype": "text/x-python",
   "name": "python",
   "nbconvert_exporter": "python",
   "pygments_lexer": "ipython3",
   "version": "3.9.12"
  }
 },
 "nbformat": 4,
 "nbformat_minor": 5
}
