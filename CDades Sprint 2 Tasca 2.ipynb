{
 "cells": [
  {
   "cell_type": "markdown",
   "id": "0dd3caea",
   "metadata": {},
   "source": [
    "# CDades Sprint 2 Tasca 2"
   ]
  },
  {
   "cell_type": "markdown",
   "id": "f2a28123",
   "metadata": {},
   "source": [
    "## Exercici 1"
   ]
  },
  {
   "cell_type": "code",
   "execution_count": null,
   "id": "78a9dde3",
   "metadata": {},
   "outputs": [],
   "source": [
    "# Crear un programa que clasifique una variable númerica en función de la escala\n",
    "# suspendido<5, 5<=aprobado<7, 7<=notable<9 y excelente >=9"
   ]
  },
  {
   "cell_type": "code",
   "execution_count": null,
   "id": "5b07457a",
   "metadata": {},
   "outputs": [],
   "source": [
    "nota = input('¿Qué nota has sacado em el examen? ')\n",
    "# Utilizo una estructura If...else para clasificar la nota\n",
    "# Hago una primera comprobación de que la nota es un número\n",
    "# Hago una comprobación última de que la nota no es superior a 10\n",
    "\n",
    "if all(d in \"0123456789.,\" for d in nota):  # Compruebo que num es un número\n",
    "    if (d in \",\" for d in nota): # Si num es decimal escrito con una coma\n",
    "        nota2=nota.replace(',','.') # Sustituyo la coma por un punto\n",
    "        nota=nota2\n",
    "    # Si num es decimal escrito con un punto, se redonde al número superior\n",
    "    if (eval(nota))<5: print('Has suspedido')\n",
    "    elif 5<=(eval(nota))<7: print('Tienes un aprobado en el examen')\n",
    "    elif 7<=(eval(nota))<9: print('Tienes un notable en el examen')\n",
    "    elif 9<=(eval(nota))<=10: print('Tienes un sobresaliente en el examen')\n",
    "    else: print('La nota debe ser un número entre 0 y 10')\n",
    "else: print('La nota no puede ser un caracter')\n",
    "        \n"
   ]
  },
  {
   "cell_type": "markdown",
   "id": "7d881b80",
   "metadata": {},
   "source": [
    "## Exercici 2"
   ]
  },
  {
   "cell_type": "code",
   "execution_count": null,
   "id": "cbdd0e7c",
   "metadata": {},
   "outputs": [],
   "source": [
    "# Dados dos números decir si el primero es mayor, igual o menor que el segundo"
   ]
  },
  {
   "cell_type": "code",
   "execution_count": null,
   "id": "dc1e1af6",
   "metadata": {},
   "outputs": [],
   "source": [
    "print('Escribe dos números')\n",
    "primerNum=input('Primer número: ')\n",
    "if all(d in \"0123456789.,\" for d in primerNum):  # Compruebo que r es un número\n",
    "    segundoNum=input('Segundo número: ')\n",
    "    if all(d in \"0123456789.,\" for d in segundoNum):  # Compruebo que s es un número\n",
    "            if (d in \",\" for d in primerNum): # Si primerNum es decimal escrito con una coma\n",
    "                primerNum2=primerNum.replace(',','.') # Sustituyo la coma por un punto\n",
    "                primerNum=primerNum2\n",
    "            if (d in \",\" for d in segundoNum): # Si segundoNum es decimal escrito con una coma\n",
    "                segundoNum2=segundoNum.replace(',','.') # Sustituyo la coma por un punto\n",
    "                segundoNum=segundoNum2\n",
    "            if primerNum>segundoNum: print(primerNum + ' es mayor que ' + segundoNum)  \n",
    "            elif primerNum==segundoNum: print(primerNum + ' es igual a ' + segundoNum)\n",
    "            else: print(primerNum + ' es menor que ' + segundoNum)\n",
    "    else: print('No has introducido un número en el segundo número') # Si num no es número\n",
    "else: print('No has introducido un número en el primer número') # Si num no es número"
   ]
  },
  {
   "cell_type": "markdown",
   "id": "290ec5f8",
   "metadata": {},
   "source": [
    "## Exercici 3"
   ]
  },
  {
   "cell_type": "code",
   "execution_count": null,
   "id": "3e6b0183",
   "metadata": {},
   "outputs": [],
   "source": [
    "# Pregunto un nombre y un número e imprimo el nombre tantas veces como indica elnúmero"
   ]
  },
  {
   "cell_type": "code",
   "execution_count": null,
   "id": "56e55353",
   "metadata": {},
   "outputs": [],
   "source": [
    "nom = input('¿Cómo te llamas?')\n",
    "num = input('Elige un número   ')\n",
    "if all(d in \"0123456789.,\" for d in num): # Compruebo que num es un número\n",
    "    if (d in \",\" for d in num): # Si num es decimal escrito con una coma\n",
    "        num2=num.replace(',','.') # Sustituyo la coma por un punto\n",
    "        num=num2\n",
    "    # Si num es decimal escrito con un punto, se redonde al número superior\n",
    "    if (num == 0):  # Si num es cero\n",
    "        print('El número no puede ser cero')\n",
    "    else:\n",
    "        nom = nom + ' '\n",
    "        print(eval(num) * nom) # Con eval el string funciona como un número\n",
    "else: print('No has introducido un número') # Si num no es número"
   ]
  },
  {
   "cell_type": "markdown",
   "id": "79b49259",
   "metadata": {},
   "source": [
    "## Exercici 4"
   ]
  },
  {
   "cell_type": "code",
   "execution_count": null,
   "id": "669a4274",
   "metadata": {},
   "outputs": [],
   "source": [
    "# Dada una lista cualquiera debo decir si es simétrica"
   ]
  },
  {
   "cell_type": "code",
   "execution_count": null,
   "id": "38c9d215",
   "metadata": {},
   "outputs": [],
   "source": [
    "# Pido una lista\n",
    "lista = list(input('Introduce una lista:'))\n",
    "if lista:  # compruebo si la lista está vacía\n",
    "    if len(lista)==0:  # compruebo si la lista tiene un sólo elemento\n",
    "        print ('Lista con un sólo elemento')\n",
    "    else:\n",
    "        if (len(lista)%2)!=0:   # calculo la longitud de media lista\n",
    "            longMediaLista=(len(lista)-1)/2\n",
    "        else:\n",
    "            longMediaLista=len(lista)/2\n",
    "        i=0\n",
    "        while i<longMediaLista:  # itero desde los dos extremos comparándolos\n",
    "            if lista[i]!=lista[((len(lista)-1)-i)]: # compruebo si los elementos en posiciones simétricas son disferentes\n",
    "                print('La lista no es simétrica')   # la lista no es simétrica\n",
    "                break\n",
    "            else:\n",
    "                print(lista[i] + ' es igual a ' + lista[(-i-1)])\n",
    "                if i==(longMediaLista-1):\n",
    "                    print('La lista es simétrica')  # acaba la iteración, la lista es simétrica\n",
    "                    print('La lista tiene ' + str(len(lista)) + ' elementos')  # número de elementos\n",
    "                i+=1\n",
    "else: print('Esta lista está vacía')"
   ]
  },
  {
   "cell_type": "markdown",
   "id": "adb4b654",
   "metadata": {},
   "source": [
    "## Exercici 5"
   ]
  },
  {
   "cell_type": "code",
   "execution_count": null,
   "id": "a1d81cdc",
   "metadata": {},
   "outputs": [],
   "source": [
    "# Dada una lista decir cuántos números coinciden con su posición"
   ]
  },
  {
   "cell_type": "code",
   "execution_count": null,
   "id": "58a4859b",
   "metadata": {},
   "outputs": [],
   "source": [
    "# Pido una lista\n",
    "lista = list(input('Introduce una lista:  '))\n",
    "if lista:  # compruebo si la lista está vacía\n",
    "    indice=0\n",
    "    coincidencias=0\n",
    "    noCoincidencias=0\n",
    "    noNumeros=0  \n",
    "    for elemento in lista:  # itero a lo largo de los elementos de la lista\n",
    "        if all(d in \"0123456789\" for d in elemento): # Compruebo que el elemento es un número\n",
    "            if elemento == str(indice):\n",
    "                print('El elemento ' + str(elemento) + ' coincide con su índice ' + str(indice))\n",
    "                coincidencias+=1 # Voy calculando las coincidencias\n",
    "            else:\n",
    "                print('El elemento ' + str(elemento) + ' no coincide con su índice ' + str(indice))\n",
    "                noCoincidencias+=1  # Voy calculando las no coincidencias\n",
    "        else:\n",
    "            print('El elemento ' + str(elemento) + ' no es un número')\n",
    "            noNumeros+=1 # Voy calculando los elementos que no son un número\n",
    "        indice+=1\n",
    "    print('Hay ' + str(coincidencias) + ' elementos en la lista que coinciden con su índice')\n",
    "    print('Hay ' + str(noCoincidencias) + ' elementos en la lista que no coinciden con su índice')\n",
    "    print('Hay ' + str(noNumeros) + ' elementos que no son números')\n",
    "else: print('Esta lista está vacía')"
   ]
  }
 ],
 "metadata": {
  "kernelspec": {
   "display_name": "Python 3 (ipykernel)",
   "language": "python",
   "name": "python3"
  },
  "language_info": {
   "codemirror_mode": {
    "name": "ipython",
    "version": 3
   },
   "file_extension": ".py",
   "mimetype": "text/x-python",
   "name": "python",
   "nbconvert_exporter": "python",
   "pygments_lexer": "ipython3",
   "version": "3.9.12"
  }
 },
 "nbformat": 4,
 "nbformat_minor": 5
}
