{
 "cells": [
  {
   "cell_type": "markdown",
   "id": "54b03d29",
   "metadata": {},
   "source": [
    "# CDades - Sprint 2\n",
    "## Tasca 1 - Exercici 1"
   ]
  },
  {
   "cell_type": "markdown",
   "id": "74547b39",
   "metadata": {},
   "source": [
    "#### Crea una llista que agrupi els mesos de l’any en trimestres (1T: gener, febrer i març; 2T: abril, maig, juny...), \n",
    "#### és a dir, una llista amb 4 llistes dins."
   ]
  },
  {
   "cell_type": "code",
   "execution_count": null,
   "id": "f387e96d",
   "metadata": {},
   "outputs": [],
   "source": [
    "# Creo una lista con los meses del año"
   ]
  },
  {
   "cell_type": "code",
   "execution_count": 14,
   "id": "97950804",
   "metadata": {
    "scrolled": true
   },
   "outputs": [
    {
     "name": "stdout",
     "output_type": "stream",
     "text": [
      "['enero', 'febrero', 'marzo', 'abril', 'mayo', 'junio', 'julio', 'agosto', 'septiembre', 'octubre', 'noviembre', 'diciembre']\n"
     ]
    }
   ],
   "source": [
    "lista_meses = ['enero','febrero','marzo','abril','mayo','junio','julio','agosto','septiembre','octubre','noviembre','diciembre']\n",
    "print(lista_meses)"
   ]
  },
  {
   "cell_type": "code",
   "execution_count": 15,
   "id": "8c95455f",
   "metadata": {},
   "outputs": [
    {
     "name": "stdout",
     "output_type": "stream",
     "text": [
      "['enero', 'febrero', 'marzo']\n",
      "['abril', 'mayo', 'junio']\n",
      "['julio', 'agosto', 'septiembre']\n",
      "['octubre', 'noviembre', 'diciembre']\n"
     ]
    }
   ],
   "source": [
    "# Creo las listas de los trimestres\n",
    "list_1T = []\n",
    "list_2T = []\n",
    "list_3T = []\n",
    "list_4T = []\n",
    "for i in range(len(lista_meses)):\n",
    " if i < 3: list_1T.append(lista_meses[i])\n",
    " elif 3<= i < 6: list_2T.append(lista_meses[i])\n",
    " elif 6<= i < 9: list_3T.append(lista_meses[i])\n",
    " elif 9<= i < 12: list_4T.append(lista_meses[i])\n",
    "print(list_1T)\n",
    "print(list_2T)\n",
    "print(list_3T)\n",
    "print(list_4T)"
   ]
  },
  {
   "cell_type": "code",
   "execution_count": 16,
   "id": "55666e18",
   "metadata": {},
   "outputs": [
    {
     "name": "stdout",
     "output_type": "stream",
     "text": [
      "[['enero', 'febrero', 'marzo'], ['abril', 'mayo', 'junio'], ['julio', 'agosto', 'septiembre'], ['octubre', 'noviembre', 'diciembre']]\n"
     ]
    }
   ],
   "source": [
    "#Creo las lista que agrupa los meses del año en listas por trimestres\n",
    "lista_trimestres=([list_1T]+[list_2T]+[list_3T]+[list_4T])\n",
    "print(lista_trimestres)"
   ]
  },
  {
   "cell_type": "markdown",
   "id": "ee6ec1ac",
   "metadata": {},
   "source": [
    "## Tasca 1 - Exercici 2"
   ]
  },
  {
   "cell_type": "markdown",
   "id": "09063d22",
   "metadata": {},
   "source": [
    "#### Crea un codi que et permeti accedir a:\n",
    "#### El segon mes del primer trimestre.\n",
    "#### Els mesos del primer trimestre.\n",
    "#### Setembre i octubre."
   ]
  },
  {
   "cell_type": "code",
   "execution_count": 17,
   "id": "91cccb10",
   "metadata": {},
   "outputs": [
    {
     "name": "stdout",
     "output_type": "stream",
     "text": [
      "febrero\n"
     ]
    }
   ],
   "source": [
    "#Código para acceder al segundo mes del primer trimestre\n",
    "segonMes1T=(lista_trimestres[0])[1]\n",
    "print(segonMes1T)"
   ]
  },
  {
   "cell_type": "code",
   "execution_count": 18,
   "id": "050dda28",
   "metadata": {},
   "outputs": [
    {
     "name": "stdout",
     "output_type": "stream",
     "text": [
      "['enero', 'febrero', 'marzo']\n"
     ]
    }
   ],
   "source": [
    "#Código para acceder a los meses del primer trimestre\n",
    "\n",
    "#Los muestro juntos en la lista del trimestre\n",
    "meses_1T=lista_trimestres[0]\n",
    "print(meses_1T)"
   ]
  },
  {
   "cell_type": "code",
   "execution_count": 19,
   "id": "edd5e88f",
   "metadata": {},
   "outputs": [
    {
     "name": "stdout",
     "output_type": "stream",
     "text": [
      "enero\n",
      "febrero\n",
      "marzo\n"
     ]
    }
   ],
   "source": [
    "#Los muestro de uno en uno\n",
    "enero=(lista_trimestres[0])[0]\n",
    "febrero=(lista_trimestres[0])[1]\n",
    "marzo=(lista_trimestres[0])[2]\n",
    "print(enero)\n",
    "print(febrero)\n",
    "print(marzo)"
   ]
  },
  {
   "cell_type": "code",
   "execution_count": 20,
   "id": "55fe3567",
   "metadata": {},
   "outputs": [
    {
     "name": "stdout",
     "output_type": "stream",
     "text": [
      "septiembre\n",
      "octubre\n"
     ]
    }
   ],
   "source": [
    "#Código para acceder a septiembre y octubre\n",
    "#Los muestro por separado\n",
    "sep=(lista_trimestres[2])[2]\n",
    "oct=(lista_trimestres[3])[0]\n",
    "print(sep)\n",
    "print(oct)"
   ]
  },
  {
   "cell_type": "code",
   "execution_count": 21,
   "id": "11047750",
   "metadata": {},
   "outputs": [
    {
     "name": "stdout",
     "output_type": "stream",
     "text": [
      "septiembre y octubre\n"
     ]
    }
   ],
   "source": [
    "#Los muestro concatenados\n",
    "sepYOct=(lista_trimestres[2])[2] + ' y ' + (lista_trimestres[3])[0]\n",
    "print(sepYOct)"
   ]
  },
  {
   "cell_type": "markdown",
   "id": "9b790078",
   "metadata": {},
   "source": [
    "## Tasca 1 - Exercici 3"
   ]
  },
  {
   "cell_type": "markdown",
   "id": "72298d97",
   "metadata": {},
   "source": [
    "#### Crea una llista amb nombres desordenats i respon a les següents preguntes:\n",
    "#### Quants números hi ha?\n",
    "#### Quantes vegades apareix el número 3.\n",
    "#### Quantes vegades apareixen els nombres 3 i 4?\n",
    "#### Quin és el número més gran?\n",
    "#### Quins són els 3 números més petits?\n",
    "#### Quin és el rang d’aquesta llista?"
   ]
  },
  {
   "cell_type": "code",
   "execution_count": 22,
   "id": "4fc22eda",
   "metadata": {},
   "outputs": [
    {
     "name": "stdout",
     "output_type": "stream",
     "text": [
      "[6, 22, 76, 98, 4, 87, 25, 35]\n"
     ]
    }
   ],
   "source": [
    "# Creo una lista con números desordenados\n",
    "numeros=[6,22,76,98,4,87,25,35]\n",
    "print(numeros)"
   ]
  },
  {
   "cell_type": "code",
   "execution_count": 23,
   "id": "87bfa992",
   "metadata": {},
   "outputs": [
    {
     "name": "stdout",
     "output_type": "stream",
     "text": [
      "8\n"
     ]
    }
   ],
   "source": [
    "# ¿Cuántos números hay?\n",
    "print(len(numeros))"
   ]
  },
  {
   "cell_type": "code",
   "execution_count": 24,
   "id": "269cc978",
   "metadata": {},
   "outputs": [
    {
     "name": "stdout",
     "output_type": "stream",
     "text": [
      "0\n"
     ]
    }
   ],
   "source": [
    "# ¿Cuántas veces aparece el número 3?\n",
    "print(numeros.count(3))"
   ]
  },
  {
   "cell_type": "code",
   "execution_count": 25,
   "id": "a9f23899",
   "metadata": {},
   "outputs": [
    {
     "name": "stdout",
     "output_type": "stream",
     "text": [
      "El número 3 aparece 0 veces y el número 4 aparece 1 veces\n"
     ]
    }
   ],
   "source": [
    "# ¿Cuántas veces aparece el número 3 y 4?\n",
    "if numeros.count(3) and numeros.count(4): \n",
    "    print('Los números 3 y 4 aparecen ' + str(numeros.count(3)+numeros.count(4)) + ' veces entre los dos')\n",
    "elif numeros.count(3) or numeros.count(4): \n",
    "    print('El número 3 aparece ' + str(numeros.count(3)) + ' veces y el número 4 aparece ' + str(numeros.count(4)) + ' veces')\n",
    "else:\n",
    "    print('Los números 3 y 4 no aparecen en ninguna ocasión')"
   ]
  },
  {
   "cell_type": "code",
   "execution_count": 26,
   "id": "88ea58fb",
   "metadata": {},
   "outputs": [
    {
     "name": "stdout",
     "output_type": "stream",
     "text": [
      "98\n"
     ]
    }
   ],
   "source": [
    "# ¿Cuál es el número más alto?\n",
    "y=0\n",
    "for x in numeros:\n",
    "    if x>y:\n",
    "        y=x\n",
    "print(y)"
   ]
  },
  {
   "cell_type": "code",
   "execution_count": 27,
   "id": "b9d9aa73",
   "metadata": {},
   "outputs": [
    {
     "name": "stdout",
     "output_type": "stream",
     "text": [
      "[4, 6, 22, 25, 35, 76, 87, 98]\n"
     ]
    }
   ],
   "source": [
    "# ¿Cuáles son los tres números más pequeños?\n",
    "# Ordeno la lista de manera ascendente\n",
    "numeros.sort()\n",
    "print(numeros)"
   ]
  },
  {
   "cell_type": "code",
   "execution_count": 28,
   "id": "a5040354",
   "metadata": {},
   "outputs": [
    {
     "name": "stdout",
     "output_type": "stream",
     "text": [
      "[4, 6, 22]\n"
     ]
    }
   ],
   "source": [
    "# Devuelvo los tres primeros elementos de la lista\n",
    "print(numeros[:3])"
   ]
  },
  {
   "cell_type": "code",
   "execution_count": 29,
   "id": "8f89dbc0",
   "metadata": {},
   "outputs": [
    {
     "name": "stdout",
     "output_type": "stream",
     "text": [
      "El rango de esta lista es de 0 a 7\n"
     ]
    }
   ],
   "source": [
    "# ¿Cuál es el rango de la lista creada al inicio de la tarea?\n",
    "print('El rango de esta lista es de 0 a ' + str(len(numeros)-1))\n"
   ]
  },
  {
   "cell_type": "markdown",
   "id": "29bc5710",
   "metadata": {},
   "source": [
    "## Tasca 1 - Exercici 4"
   ]
  },
  {
   "cell_type": "markdown",
   "id": "5713d2af",
   "metadata": {},
   "source": [
    "#### Crea un diccionari de la següent forma i respon a les preguntes:\n",
    "#### compra = { \"Pomes\" : {\"Qty\": 5, \"€\": 0.42}, \"Peres\" : {\"Qty\": 3, \"€\": 0.66} }\n",
    "#### Afegeix alguna fruita més\n",
    "#### Quant han costat les peres en total?\n",
    "#### Quantes fruites hem comprat en total?\n",
    "#### Quina és la fruita més cara?\n"
   ]
  },
  {
   "cell_type": "code",
   "execution_count": 30,
   "id": "a8bcd4a7",
   "metadata": {},
   "outputs": [
    {
     "name": "stdout",
     "output_type": "stream",
     "text": [
      "{'Pomes': {'Qty': 0, '€': 0.42}, 'Peres': {'Qty': 3, '€': 0.66}}\n"
     ]
    }
   ],
   "source": [
    "# Creo un dicionario\n",
    "compra = { \"Pomes\" : {\"Qty\": 0, \"€\": 0.42}, \"Peres\" : {\"Qty\": 3, \"€\": 0.66} }\n",
    "print(compra)"
   ]
  },
  {
   "cell_type": "code",
   "execution_count": 31,
   "id": "96cd3cfe",
   "metadata": {},
   "outputs": [
    {
     "name": "stdout",
     "output_type": "stream",
     "text": [
      "{'Pomes': {'Qty': 0, '€': 0.42}, 'Peres': {'Qty': 3, '€': 0.66}, 'Cireres': {'Qty': 10, '€': 1.25}}\n"
     ]
    }
   ],
   "source": [
    "# Añado una fruta\n",
    "compra[\"Cireres\"] = {\"Qty\" : 10, \"€\": 1.25}\n",
    "print(compra)"
   ]
  },
  {
   "cell_type": "code",
   "execution_count": 32,
   "id": "7a1b600c",
   "metadata": {},
   "outputs": [
    {
     "name": "stdout",
     "output_type": "stream",
     "text": [
      "dict_values([{'Qty': 0, '€': 0.42}, {'Qty': 3, '€': 0.66}, {'Qty': 10, '€': 1.25}])\n",
      "Hemos comprado 2 frutas\n"
     ]
    }
   ],
   "source": [
    "# Cuántas frutas he comprado\n",
    "# Un método sería hacer un len(compra) puede haber cantidades a cero que indica que de esa fruta no se ha comprado nada\n",
    "# Para hacer una comprobación de las cantidades compradas trabajo con los valores del diccionario\n",
    "frutas = compra.values()\n",
    "print(frutas)\n",
    "numFrutas=0\n",
    "for x in frutas:\n",
    "    if x['Qty']>0: numFrutas+=1  # Compruebo de qué frutas hemos comprado realmente\n",
    "print('Hemos comprado ' + str(numFrutas) + ' frutas')\n"
   ]
  },
  {
   "cell_type": "code",
   "execution_count": null,
   "id": "5fe25157",
   "metadata": {},
   "outputs": [],
   "source": []
  }
 ],
 "metadata": {
  "kernelspec": {
   "display_name": "Python 3 (ipykernel)",
   "language": "python",
   "name": "python3"
  },
  "language_info": {
   "codemirror_mode": {
    "name": "ipython",
    "version": 3
   },
   "file_extension": ".py",
   "mimetype": "text/x-python",
   "name": "python",
   "nbconvert_exporter": "python",
   "pygments_lexer": "ipython3",
   "version": "3.9.12"
  }
 },
 "nbformat": 4,
 "nbformat_minor": 5
}
