{
 "cells": [
  {
   "cell_type": "markdown",
   "id": "54b03d29",
   "metadata": {},
   "source": [
    "# CDades - Sprint 2\n",
    "## Tasca 1 - Exercici 1"
   ]
  },
  {
   "cell_type": "code",
   "execution_count": null,
   "id": "f387e96d",
   "metadata": {},
   "outputs": [],
   "source": [
    "# Creo una lista con los meses del año"
   ]
  },
  {
   "cell_type": "code",
   "execution_count": null,
   "id": "97950804",
   "metadata": {
    "scrolled": true
   },
   "outputs": [],
   "source": [
    "lista_meses = ['enero','febrero','marzo','abril','mayo','junio','julio','agosto','septiembre','octubre','noviembre','diciembre']\n",
    "print(lista_meses)"
   ]
  },
  {
   "cell_type": "code",
   "execution_count": null,
   "id": "8c95455f",
   "metadata": {},
   "outputs": [],
   "source": [
    "# Creo las listas de los trimestres\n",
    "list_1T = []\n",
    "list_2T = []\n",
    "list_3T = []\n",
    "list_4T = []\n",
    "for i in range(len(lista_meses)):\n",
    " if i < 3: list_1T.append(lista_meses[i])\n",
    " elif 3<= i < 6: list_2T.append(lista_meses[i])\n",
    " elif 6<= i < 9: list_3T.append(lista_meses[i])\n",
    " elif 9<= i < 12: list_4T.append(lista_meses[i])\n",
    "print(list_1T)\n",
    "print(list_2T)\n",
    "print(list_3T)\n",
    "print(list_4T)"
   ]
  },
  {
   "cell_type": "code",
   "execution_count": null,
   "id": "55666e18",
   "metadata": {},
   "outputs": [],
   "source": [
    "#Creo las lista que agrupa los meses del año en listas por trimestres\n",
    "lista_trimestres=([list_1T]+[list_2T]+[list_3T]+[list_4T])\n",
    "print(lista_trimestres)"
   ]
  },
  {
   "cell_type": "markdown",
   "id": "ee6ec1ac",
   "metadata": {},
   "source": [
    "## Tasca 1 - Exercici 2"
   ]
  },
  {
   "cell_type": "code",
   "execution_count": null,
   "id": "91cccb10",
   "metadata": {},
   "outputs": [],
   "source": [
    "#Código para acceder al segundo mes del primer trimestre\n",
    "segonMes1T=(lista_trimestres[0])[1]\n",
    "print(segonMes1T)"
   ]
  },
  {
   "cell_type": "code",
   "execution_count": null,
   "id": "050dda28",
   "metadata": {},
   "outputs": [],
   "source": [
    "#Código para acceder a los meses del primer trimestre\n",
    "\n",
    "#Los muestro juntos en la lista del trimestre\n",
    "meses_1T=lista_trimestres[0]\n",
    "print(meses_1T)"
   ]
  },
  {
   "cell_type": "code",
   "execution_count": null,
   "id": "edd5e88f",
   "metadata": {},
   "outputs": [],
   "source": [
    "#Los muestro de uno en uno\n",
    "enero=(lista_trimestres[0])[0]\n",
    "febrero=(lista_trimestres[0])[1]\n",
    "marzo=(lista_trimestres[0])[2]\n",
    "print(enero)\n",
    "print(febrero)\n",
    "print(marzo)"
   ]
  },
  {
   "cell_type": "code",
   "execution_count": null,
   "id": "55fe3567",
   "metadata": {},
   "outputs": [],
   "source": [
    "#Código para acceder a septiembre y octubre\n",
    "#Los muestro por separado\n",
    "sep=(lista_trimestres[2])[2]\n",
    "oct=(lista_trimestres[3])[0]\n",
    "print(sep)\n",
    "print(oct)"
   ]
  },
  {
   "cell_type": "code",
   "execution_count": null,
   "id": "11047750",
   "metadata": {},
   "outputs": [],
   "source": [
    "#Los muestro concatenados\n",
    "sepYOct=(lista_trimestres[2])[2] + ' y ' + (lista_trimestres[3])[0]\n",
    "print(sepYOct)"
   ]
  },
  {
   "cell_type": "markdown",
   "id": "9b790078",
   "metadata": {},
   "source": [
    "## Tasca 1 - Exercici 3"
   ]
  },
  {
   "cell_type": "code",
   "execution_count": null,
   "id": "4fc22eda",
   "metadata": {},
   "outputs": [],
   "source": [
    "# Creo una lista con números desordenados\n",
    "numeros=[6,22,76,98,4,87,25,35]\n",
    "print(numeros)"
   ]
  },
  {
   "cell_type": "code",
   "execution_count": null,
   "id": "87bfa992",
   "metadata": {},
   "outputs": [],
   "source": [
    "# ¿Cuántos números hay?\n",
    "print(len(numeros))"
   ]
  },
  {
   "cell_type": "code",
   "execution_count": null,
   "id": "269cc978",
   "metadata": {},
   "outputs": [],
   "source": [
    "# ¿Cuántas veces aparece el número 3?\n",
    "print(numeros.count(3))"
   ]
  },
  {
   "cell_type": "code",
   "execution_count": null,
   "id": "a9f23899",
   "metadata": {},
   "outputs": [],
   "source": [
    "# ¿Cuántas veces aparece el número 3 y 4?\n",
    "if numeros.count(3) and numeros.count(4): \n",
    "    print('Los números 3 y 4 aparecen ' + str(numeros.count(3)+numeros.count(4)) + ' veces entre los dos')\n",
    "elif numeros.count(3) or numeros.count(4): \n",
    "    print('El número 3 aparece ' + str(numeros.count(3)) + ' veces y el número 4 aparece ' + str(numeros.count(4)) + ' veces')\n",
    "else:\n",
    "    print('Los números 3 y 4 no aparecen en ninguna ocasión')"
   ]
  },
  {
   "cell_type": "code",
   "execution_count": null,
   "id": "88ea58fb",
   "metadata": {},
   "outputs": [],
   "source": [
    "# ¿Cuál es el número más alto?\n",
    "y=0\n",
    "for x in numeros:\n",
    "    if x>y:\n",
    "        y=x\n",
    "print(y)"
   ]
  },
  {
   "cell_type": "code",
   "execution_count": null,
   "id": "b9d9aa73",
   "metadata": {},
   "outputs": [],
   "source": [
    "# ¿Cuáles son los tres números más pequeños?\n",
    "# Ordeno la lista de manera ascendente\n",
    "numeros.sort()\n",
    "print(numeros)"
   ]
  },
  {
   "cell_type": "code",
   "execution_count": null,
   "id": "a5040354",
   "metadata": {},
   "outputs": [],
   "source": [
    "# Devuelvo los tres primeros elementos de la lista\n",
    "print(numeros[:3])"
   ]
  },
  {
   "cell_type": "code",
   "execution_count": null,
   "id": "8f89dbc0",
   "metadata": {},
   "outputs": [],
   "source": [
    "# ¿Cuál es el rango de la lista creada al inicio de la tarea?\n",
    "print('El rango de esta lista es de 0 a ' + str(len(numeros)-1))\n"
   ]
  },
  {
   "cell_type": "markdown",
   "id": "29bc5710",
   "metadata": {},
   "source": [
    "## Tasca 1 - Exercici 3"
   ]
  },
  {
   "cell_type": "code",
   "execution_count": null,
   "id": "a8bcd4a7",
   "metadata": {},
   "outputs": [],
   "source": [
    "# Creo un dicionario\n",
    "compra = { \"Pomes\" : {\"Qty\": 0, \"€\": 0.42}, \"Peres\" : {\"Qty\": 3, \"€\": 0.66} }\n",
    "print(compra)"
   ]
  },
  {
   "cell_type": "code",
   "execution_count": null,
   "id": "96cd3cfe",
   "metadata": {},
   "outputs": [],
   "source": [
    "# Añado una fruta\n",
    "compra[\"Cireres\"] = {\"Qty\" : 10, \"€\": 1.25}\n",
    "print(compra)"
   ]
  },
  {
   "cell_type": "code",
   "execution_count": null,
   "id": "7a1b600c",
   "metadata": {},
   "outputs": [],
   "source": [
    "# Cuántas frutas he comprado\n",
    "# Un método sería hacer un len(compra) puede haber cantidades a cero que indica que de esa fruta no se ha comprado nada\n",
    "# Para hacer una comprobación de las cantidades compradas trabajo con los valores del diccionario\n",
    "frutas = compra.values()\n",
    "print(frutas)\n",
    "numFrutas=0\n",
    "for x in frutas:\n",
    "    if x['Qty']>0: numFrutas+=1  # Compruebo de qué frutas hemos comprado realmente\n",
    "print('Hemos comprado ' + str(numFrutas) + ' frutas')\n"
   ]
  }
 ],
 "metadata": {
  "kernelspec": {
   "display_name": "Python 3 (ipykernel)",
   "language": "python",
   "name": "python3"
  },
  "language_info": {
   "codemirror_mode": {
    "name": "ipython",
    "version": 3
   },
   "file_extension": ".py",
   "mimetype": "text/x-python",
   "name": "python",
   "nbconvert_exporter": "python",
   "pygments_lexer": "ipython3",
   "version": "3.9.12"
  }
 },
 "nbformat": 4,
 "nbformat_minor": 5
}
